{
 "cells": [
  {
   "cell_type": "code",
   "execution_count": 6,
   "metadata": {},
   "outputs": [
    {
     "name": "stdout",
     "output_type": "stream",
     "text": [
      "salida.png\n",
      "‘CUPUN HCEF’THDU\n",
      "\n",
      "' inf-‘5 ‘\n",
      "\n",
      " \n",
      "\n",
      "* * ﬂ 6 m R R E F 0 U R * * *\n",
      "eéZHRHICHEeé\n",
      "CﬁIszﬁw28425270\n",
      "*%**§§%*ﬁ%ﬁﬁﬁﬁx%ﬁ%%§ﬁ§%§*%%K%%%%%%%%ﬁﬁ¥%%%\n",
      "DESECHHBLES MILKIN 5,70\n",
      "BEBIDH HRRDZ CHLCIO 1,32\n",
      "BEBIDH HUENH ECU 1L 1ies\n",
      "BEBIUH DE 2050 1 L.\n",
      "4::( 13923 3 7\n",
      "BEBIDH ESPELTH 7L , 1\n",
      "2\n",
      "\n",
      " \n",
      "\n",
      "LONGHNEZR IMPERIHL 3250\n",
      "PUSTRE DE SUJH » .,;;_\n",
      "YOGUR scam C/HLBRR '**¥T\n",
      "YUGUR SUJH c/FRUTH . ‘ *~f;33\n",
      "\n",
      ";$QHHUNCUCIDO 1906R\n",
      "\n",
      "7ZPEFINU'RLHERIR\n"
     ]
    }
   ],
   "source": [
    "# import the necessary packages\n",
    "from PIL import Image\n",
    "#import Image\n",
    "import argparse\n",
    "import cv2\n",
    "import os\n",
    "import pytesseract\n",
    "\n",
    "#image = cv2.imread(\"prueba1.png\")\n",
    "image = cv2.imread(\"181010_carreforur_conflash_1.JPG\")\n",
    "gray = cv2.cvtColor(image, cv2.COLOR_BGR2GRAY)\n",
    "\n",
    "# write the grayscale image to disk as a temporary file so we can\n",
    "# apply OCR to it\n",
    "#filename = \"{}.png\".format(os.getpid())\n",
    "filename=\"salida.png\"\n",
    "print(filename)\n",
    "\n",
    "cv2.imwrite(filename, gray)\n",
    "image = cv2.imread(\"salida.png\")\n",
    "\n",
    "print(pytesseract.image_to_string(Image.open('/home/jesuscj1/Escritorio/11980.png'),lang='eng'))\n",
    "\n",
    "#os.remove(filename)\n"
   ]
  },
  {
   "cell_type": "code",
   "execution_count": null,
   "metadata": {},
   "outputs": [],
   "source": []
  },
  {
   "cell_type": "code",
   "execution_count": null,
   "metadata": {},
   "outputs": [],
   "source": []
  }
 ],
 "metadata": {
  "kernelspec": {
   "display_name": "Python 2",
   "language": "python",
   "name": "python2"
  },
  "language_info": {
   "codemirror_mode": {
    "name": "ipython",
    "version": 2
   },
   "file_extension": ".py",
   "mimetype": "text/x-python",
   "name": "python",
   "nbconvert_exporter": "python",
   "pygments_lexer": "ipython2",
   "version": "2.7.15"
  }
 },
 "nbformat": 4,
 "nbformat_minor": 2
}
