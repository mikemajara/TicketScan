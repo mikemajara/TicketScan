{
 "cells": [
  {
   "cell_type": "code",
   "execution_count": null,
   "metadata": {},
   "outputs": [],
   "source": [
    "import regex\n",
    "\n",
    "regex.match(r\"(?:Descripcion unidad \\(€\\)){e<5}\", \"VESCR IPCIÓN UNIDAD (€)\", flags=regex.BESTMATCH|regex.IGNORECASE) "
   ]
  }
 ],
 "metadata": {
  "kernelspec": {
   "display_name": "Python 3",
   "language": "python",
   "name": "python3"
  }
 },
 "nbformat": 4,
 "nbformat_minor": 2
}
